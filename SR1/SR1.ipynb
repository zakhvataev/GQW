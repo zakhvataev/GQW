{
 "cells": [
  {
   "cell_type": "code",
   "execution_count": 10,
   "metadata": {},
   "outputs": [],
   "source": [
    "import numpy as np\n",
    "from IPython.display import clear_output"
   ]
  },
  {
   "cell_type": "code",
   "execution_count": 2,
   "metadata": {},
   "outputs": [],
   "source": [
    "def test_1(x):\n",
    "    res = 0\n",
    "    for i in range(len(x)):\n",
    "        res += x[i]**2\n",
    "    return res"
   ]
  },
  {
   "cell_type": "code",
   "execution_count": 3,
   "metadata": {},
   "outputs": [],
   "source": [
    "def test_2(x):\n",
    "    res = 0\n",
    "    for i in range(len(x)):\n",
    "        res += (x[i]**2)*(1+(i*np.sin(200*i)))\n",
    "    return res"
   ]
  },
  {
   "cell_type": "code",
   "execution_count": 4,
   "metadata": {},
   "outputs": [],
   "source": [
    "def get_grad(func, x):\n",
    "    eps = 10**(-6)\n",
    "    f_grad = np.zeros(x.shape)\n",
    "    \n",
    "    for i in range(x.shape[0]):\n",
    "        for j in range(x.shape[1]):\n",
    "            x[i, j] += eps\n",
    "            f_l = func(x)\n",
    "            x[i, j] -= 2*eps\n",
    "            f_r = func(x)\n",
    "            x[i, j] += eps\n",
    "            \n",
    "            f_grad[i, j] = (f_l - f_r) / 2 / eps\n",
    "            \n",
    "    return f_grad"
   ]
  },
  {
   "cell_type": "code",
   "execution_count": 5,
   "metadata": {},
   "outputs": [],
   "source": [
    "def get_scalar(x,y):\n",
    "    res = 0\n",
    "    for i in range(x.shape[0]):\n",
    "        res += x[i][0]*y[i][0]\n",
    "    return res"
   ]
  },
  {
   "cell_type": "code",
   "execution_count": 15,
   "metadata": {},
   "outputs": [],
   "source": [
    "def SR1(func, x):\n",
    "    H = np.eye(x.shape[0])/2\n",
    "    \n",
    "    eps = 10**(-9)\n",
    "    alpha = 1\n",
    "    \n",
    "    grad = get_grad(func, x)\n",
    "    \n",
    "    ITERATIONS = 0\n",
    "\n",
    "    while True:\n",
    "        \n",
    "        norm_grad = np.linalg.norm(grad)\n",
    "        \n",
    "        if norm_grad < eps:\n",
    "            break\n",
    "        \n",
    "        clear_output(wait=True)\n",
    "        print('Method SR1 is on {} iteration, gradient`s norm = {}'.format(ITERATIONS, norm_grad))\n",
    "        print('Desired value of gradient`s norm -> {}'.format(eps))\n",
    "        print('___________________________________________________')\n",
    "\n",
    "\n",
    "        \n",
    "        \n",
    "        x_next = x - alpha*H@get_grad(func, x)\n",
    "        sk = x_next - x\n",
    "        x = x_next\n",
    "        \n",
    "        \n",
    "        g_next = get_grad(func, x_next)\n",
    "        yk = g_next - grad\n",
    "        grad = g_next\n",
    "        \n",
    "        tmp = sk-(H@yk)\n",
    "                \n",
    "        \n",
    "        H_next = H + (tmp@tmp.T)/ np.dot(tmp[:,0], yk[:,0])\n",
    "        H = H_next\n",
    "        \n",
    "        \n",
    "        ITERATIONS += 1\n",
    "        \n",
    "    print('Final norm = {}'.format(norm_grad))\n",
    "    print('___________________________________________________')\n",
    "    \n",
    "    return x"
   ]
  },
  {
   "cell_type": "code",
   "execution_count": 16,
   "metadata": {},
   "outputs": [
    {
     "name": "stdout",
     "output_type": "stream",
     "text": [
      "Method SR1 is on 100 iteration, gradient`s norm = 0.0034529102331961785\n",
      "Desired value of gradient`s norm -> 1e-09\n",
      "___________________________________________________\n",
      "Final norm = 4.7598768089617764e-11\n",
      "___________________________________________________\n",
      "CPU times: user 1min 5s, sys: 28.6 s, total: 1min 34s\n",
      "Wall time: 40.8 s\n"
     ]
    }
   ],
   "source": [
    "%%time\n",
    "x = np.random.rand(100,1)\n",
    "res = SR1(test_2, x)"
   ]
  },
  {
   "cell_type": "code",
   "execution_count": 9,
   "metadata": {},
   "outputs": [
    {
     "data": {
      "text/plain": [
       "array([[-1.80911566e-12],\n",
       "       [-3.59053898e-11],\n",
       "       [ 1.05364585e-11],\n",
       "       [-9.34466751e-12],\n",
       "       [-1.60252804e-12],\n",
       "       [-1.29683342e-12],\n",
       "       [-4.88498196e-12],\n",
       "       [-1.06901873e-12],\n",
       "       [-1.77980020e-12],\n",
       "       [ 1.69666255e-12],\n",
       "       [-3.17167052e-13],\n",
       "       [ 4.11965391e-13],\n",
       "       [ 4.98042470e-12],\n",
       "       [-5.32197720e-13],\n",
       "       [ 1.65194125e-14],\n",
       "       [ 1.01563004e-12],\n",
       "       [ 2.75009521e-13],\n",
       "       [-4.36556657e-13],\n",
       "       [-1.00817301e-13],\n",
       "       [ 3.58958941e-14],\n",
       "       [-1.77020917e-13],\n",
       "       [ 8.71755787e-13],\n",
       "       [ 9.46973259e-14],\n",
       "       [ 2.62168014e-13],\n",
       "       [-1.12641201e-13],\n",
       "       [ 6.12209603e-14],\n",
       "       [ 3.88447889e-13],\n",
       "       [ 4.07869023e-13],\n",
       "       [ 7.90867675e-15],\n",
       "       [-1.55307477e-13],\n",
       "       [-1.24549195e-13],\n",
       "       [ 5.00727984e-14],\n",
       "       [ 1.06114468e-13],\n",
       "       [-2.32180595e-13],\n",
       "       [-1.61862317e-14],\n",
       "       [ 6.18469509e-14],\n",
       "       [ 1.98320950e-13],\n",
       "       [-8.60597788e-14],\n",
       "       [-1.97678757e-13],\n",
       "       [-1.82531464e-13],\n",
       "       [ 1.04162974e-13],\n",
       "       [ 4.37500155e-14],\n",
       "       [-1.25203941e-13],\n",
       "       [ 1.29316097e-15],\n",
       "       [-3.93674057e-13],\n",
       "       [-9.71022075e-15],\n",
       "       [ 3.16468731e-14],\n",
       "       [ 3.32899807e-14],\n",
       "       [-1.84001579e-14],\n",
       "       [ 6.63893675e-14],\n",
       "       [-3.62859607e-13],\n",
       "       [ 1.38137193e-13],\n",
       "       [ 1.31760917e-14],\n",
       "       [ 1.41619657e-14],\n",
       "       [-3.11508896e-14],\n",
       "       [ 3.69386918e-14],\n",
       "       [-2.23514161e-13],\n",
       "       [ 6.11007864e-14],\n",
       "       [ 4.23880003e-14],\n",
       "       [ 2.38589805e-13],\n",
       "       [ 8.05253005e-15],\n",
       "       [-4.21544778e-14],\n",
       "       [-4.01018995e-14],\n",
       "       [ 4.03392421e-14],\n",
       "       [ 6.72041082e-14],\n",
       "       [-4.95939337e-13],\n",
       "       [-5.45510517e-14],\n",
       "       [ 5.22346146e-14],\n",
       "       [-9.54764501e-14],\n",
       "       [ 3.83916982e-14],\n",
       "       [ 5.53330854e-14],\n",
       "       [-3.19929855e-11],\n",
       "       [-2.51253642e-14],\n",
       "       [-2.15361564e-14],\n",
       "       [ 2.36428661e-13],\n",
       "       [-1.41889267e-14],\n",
       "       [ 4.96271839e-15],\n",
       "       [ 8.85131704e-13],\n",
       "       [-3.93983501e-14],\n",
       "       [ 3.45354183e-14],\n",
       "       [ 1.31564641e-13],\n",
       "       [-4.49472178e-14],\n",
       "       [ 3.08752797e-14],\n",
       "       [ 3.17010264e-13],\n",
       "       [ 7.12580358e-15],\n",
       "       [-7.96833516e-14],\n",
       "       [ 9.79999957e-14],\n",
       "       [-2.85500250e-14],\n",
       "       [ 8.13827498e-15],\n",
       "       [-5.22584092e-14],\n",
       "       [ 3.18590608e-14],\n",
       "       [-8.63001869e-15],\n",
       "       [-1.55150836e-14],\n",
       "       [-9.89890771e-16],\n",
       "       [ 6.38542034e-15],\n",
       "       [-8.75058574e-14],\n",
       "       [ 3.04600290e-15],\n",
       "       [-2.77328904e-14],\n",
       "       [-9.44509251e-14],\n",
       "       [ 2.37898817e-14]])"
      ]
     },
     "execution_count": 9,
     "metadata": {},
     "output_type": "execute_result"
    }
   ],
   "source": [
    "res"
   ]
  },
  {
   "cell_type": "code",
   "execution_count": null,
   "metadata": {},
   "outputs": [],
   "source": []
  }
 ],
 "metadata": {
  "kernelspec": {
   "display_name": "Python 3",
   "language": "python",
   "name": "python3"
  },
  "language_info": {
   "codemirror_mode": {
    "name": "ipython",
    "version": 3
   },
   "file_extension": ".py",
   "mimetype": "text/x-python",
   "name": "python",
   "nbconvert_exporter": "python",
   "pygments_lexer": "ipython3",
   "version": "3.8.5"
  }
 },
 "nbformat": 4,
 "nbformat_minor": 4
}
