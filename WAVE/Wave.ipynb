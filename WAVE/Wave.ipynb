{
 "cells": [
  {
   "cell_type": "code",
   "execution_count": 1,
   "metadata": {},
   "outputs": [],
   "source": [
    "from IPython.display import clear_output"
   ]
  },
  {
   "cell_type": "code",
   "execution_count": 2,
   "metadata": {},
   "outputs": [],
   "source": [
    "import numpy as np\n",
    "from matplotlib import cm\n",
    "import matplotlib.pyplot as plt"
   ]
  },
  {
   "cell_type": "markdown",
   "metadata": {},
   "source": [
    "**Константы для дальнейшей работы**"
   ]
  },
  {
   "cell_type": "code",
   "execution_count": 3,
   "metadata": {},
   "outputs": [],
   "source": [
    "a = 1\n",
    "dl = 0.1\n",
    "dt = 0.09\n",
    "L = 1\n",
    "T = 1\n",
    "T_iter = int(T/dt) + 1\n",
    "L_iter = int(L/dl) + 1\n",
    "gamma = (a*dt/dl)**2 "
   ]
  },
  {
   "cell_type": "markdown",
   "metadata": {},
   "source": [
    "**Рассмотрим тестовую функцию:**\n",
    "\n",
    "$y(t, x) = t^2(x-l)^2$\n",
    "\n",
    "**Тогда:**\n",
    "\n",
    "$y_{tt} = y_{xx} + f(t, x)$\n",
    "\n",
    "$y_x|_{x=0} = -u(t),\\qquad y_x|_{x=0} = 0$\n",
    "\n",
    "$y|_{t=0} = 0,\\qquad\\quad\\, y_t|_{t=0}=0$\n",
    "\n",
    "**и**\n",
    "\n",
    "$u(t) = (2t^2(x-l))|_{x=0} = 2t^2l$\n",
    "\n",
    "$f(t, x) = 2(x-l)^2 - 2t^2$"
   ]
  },
  {
   "cell_type": "code",
   "execution_count": 4,
   "metadata": {},
   "outputs": [],
   "source": [
    "def test_function(t, x):\n",
    "    return 2*((x-L-t)*(x-L+t))"
   ]
  },
  {
   "cell_type": "markdown",
   "metadata": {},
   "source": [
    "**Тестовое начальное условие**"
   ]
  },
  {
   "cell_type": "code",
   "execution_count": 5,
   "metadata": {},
   "outputs": [],
   "source": [
    "def test_left_control(t):\n",
    "    return np.cos(t)"
   ]
  },
  {
   "cell_type": "markdown",
   "metadata": {},
   "source": [
    "**Создание пространственно-временной сетки**"
   ]
  },
  {
   "cell_type": "code",
   "execution_count": 6,
   "metadata": {},
   "outputs": [],
   "source": [
    "\"\"\"\n",
    "Инициализация сетки нулями\n",
    "\"\"\"\n",
    "\n",
    "def make_grid():\n",
    "    return np.zeros([T_iter, L_iter])"
   ]
  },
  {
   "cell_type": "markdown",
   "metadata": {},
   "source": [
    "**Функция для отрисовки y(t, x)**"
   ]
  },
  {
   "cell_type": "code",
   "execution_count": 7,
   "metadata": {},
   "outputs": [],
   "source": [
    "def plot_3D(U):\n",
    "    fig = plt.figure(figsize = (10, 10))\n",
    "    ax = fig.add_subplot(1, 1, 1, projection = '3d')\n",
    "    xval = np.linspace(0, L, num=T_iter)\n",
    "    ax.set_xlabel('x', fontsize = 20)\n",
    "    yval = np.linspace(0, T, num=L_iter)\n",
    "    ax.set_ylabel('t', fontsize = 20)\n",
    "    ax.set_zlabel('y(t, x)', fontsize = 20)\n",
    "    x, y = np.meshgrid(yval,xval)\n",
    "    z = U\n",
    "    surf = ax.plot_surface(x, y, z, rstride = 1, cstride = 1, cmap = cm.plasma) "
   ]
  },
  {
   "cell_type": "markdown",
   "metadata": {},
   "source": [
    "**Разностная схема крест для уравнения:** \n",
    "\n",
    "$y_{tt} = y_{xx} + f(t, x)$, при\n",
    "\n",
    "$f(t, x) = 2(x-l)^2-2t^2$ "
   ]
  },
  {
   "cell_type": "markdown",
   "metadata": {},
   "source": [
    "**Значение, которое вычисляем** $ = Y[t+1, x]$\n",
    "\n",
    "**Центр в точке** $Y[t,x]$\n",
    "\n",
    "**Левое граничное условие в точке** $Y[t+1, 0]$ \n",
    "\n",
    "**Правое граничное условие в точке** $Y[t+1, L]$"
   ]
  },
  {
   "cell_type": "code",
   "execution_count": 331,
   "metadata": {},
   "outputs": [],
   "source": [
    "def approximate_solution_cross_straight(Y, control):\n",
    "    \n",
    "    for t in range(1, T_iter-1):\n",
    "        for x in range(1, L_iter-1):\n",
    "\n",
    "            Y[t+1, x] = 2*Y[t, x] - Y[t-1, x]+gamma*(Y[t, x-1] - 2*Y[t, x] + Y[t, x+1])\n",
    "            \n",
    "        Y[t+1, 0] = -dl*control[t] + Y[t+1, 1]\n",
    "        Y[t+1, L_iter-1] = Y[t+1, L_iter-2]\n",
    "\n",
    "    return Y"
   ]
  },
  {
   "cell_type": "code",
   "execution_count": 342,
   "metadata": {},
   "outputs": [
    {
     "name": "stdout",
     "output_type": "stream",
     "text": [
      "points  = [0.   0.09 0.18 0.27 0.36 0.45 0.54 0.63 0.72 0.81 0.9  0.99]\n",
      "cos = u = [1.   1.   0.98 0.96 0.94 0.9  0.86 0.81 0.75 0.69 0.62 0.55]\n"
     ]
    }
   ],
   "source": [
    "# Задаем оптимальное управление u = cos(t) в узлах сетки\n",
    "u = np.array([(dt*i,np.cos(dt*i)) for i in range(0, T_iter)])\n",
    "print('points  = {}\\ncos = u = {}'.format(u[:,0],np.round(u[:,1],2)))\n",
    "u = u[:,1]"
   ]
  },
  {
   "cell_type": "code",
   "execution_count": 350,
   "metadata": {},
   "outputs": [
    {
     "data": {
      "text/plain": [
       "array([[ 0.        ,  0.        ,  0.        ,  0.        ,  0.        ],\n",
       "       [ 0.        ,  0.        ,  0.        ,  0.        ,  0.        ],\n",
       "       [-0.09959527,  0.        ,  0.        ,  0.        ,  0.        ],\n",
       "       [-0.17905654, -0.08067217,  0.        ,  0.        ,  0.        ],\n",
       "       [-0.27206831, -0.17569122, -0.06534446,  0.        ,  0.        ]])"
      ]
     },
     "execution_count": 350,
     "metadata": {},
     "output_type": "execute_result"
    }
   ],
   "source": [
    "PLOT = approximate_solution_cross_straight(make_grid(), u)\n",
    "PLOT[:5,:5]\n",
    "# plot_3D(PLOT)"
   ]
  },
  {
   "cell_type": "code",
   "execution_count": 355,
   "metadata": {},
   "outputs": [
    {
     "name": "stdout",
     "output_type": "stream",
     "text": [
      "goal     = [ 0.84  0.78  0.71  0.64  0.56  0.47  0.38  0.29  0.19  0.09 -0.01]\n",
      "solution = [-0.77 -0.71 -0.64 -0.56 -0.48 -0.39 -0.3  -0.21 -0.09 -0.01 -0.01]\n"
     ]
    }
   ],
   "source": [
    "# Финальное состояние (цель) должно быть равно: y(T,x)= -sin(x-1)\n",
    "goal_1 = np.array([np.sin(dt*(T_iter-1)-dl*x) for x in range(0, L_iter)])\n",
    "f1_app = PLOT[T_iter-1, :]\n",
    "print('goal     = {}\\nsolution = {}'.format(np.round(goal_1,2), np.round(f1_app,2)))"
   ]
  },
  {
   "cell_type": "code",
   "execution_count": 340,
   "metadata": {},
   "outputs": [],
   "source": [
    "def accurate_solution(y_t):\n",
    "    Y = np.zeros([T_iter, L_iter])\n",
    "\n",
    "    for t in range(0, T_iter):\n",
    "        for x in range(0, L_iter):\n",
    "            Y[t, x] = y_t(t*dt, x*dl)\n",
    "            \n",
    "    return Y"
   ]
  },
  {
   "cell_type": "code",
   "execution_count": null,
   "metadata": {},
   "outputs": [],
   "source": [
    "def get_goal_f1():\n",
    "    l = np.zeros(L_iter)\n",
    "    for x in range(L_iter):\n",
    "        l[x] = -np.sin(dl*x - 1)\n",
    "        \n",
    "    return np.array(l)\n",
    "\n",
    "get_goal_f1()"
   ]
  },
  {
   "cell_type": "markdown",
   "metadata": {},
   "source": [
    "**Ещё тесты**"
   ]
  },
  {
   "cell_type": "markdown",
   "metadata": {},
   "source": [
    "# 1\n",
    "# $u(t) = \\sin^2(t)+\\cos^2(t)$\n",
    "# $y = t-x, t>x$"
   ]
  },
  {
   "cell_type": "code",
   "execution_count": null,
   "metadata": {},
   "outputs": [],
   "source": [
    "def control1(t):\n",
    "    return (np.sin(t))**2 + (np.cos(t))**2"
   ]
  },
  {
   "cell_type": "code",
   "execution_count": null,
   "metadata": {},
   "outputs": [],
   "source": [
    "def y1(t, x):\n",
    "    if t - x >0:\n",
    "        return t-x\n",
    "    return 0"
   ]
  },
  {
   "cell_type": "code",
   "execution_count": null,
   "metadata": {},
   "outputs": [],
   "source": [
    "grid = make_grid()\n",
    "PLOT = approximate_solution_cross_straight(grid, control1, 0)"
   ]
  },
  {
   "cell_type": "code",
   "execution_count": null,
   "metadata": {
    "scrolled": false
   },
   "outputs": [],
   "source": [
    "# plot_3D(PLOT)"
   ]
  },
  {
   "cell_type": "code",
   "execution_count": null,
   "metadata": {
    "scrolled": false
   },
   "outputs": [],
   "source": [
    "# goal = accurate_solution(y1)\n",
    "# plot_3D(goal)"
   ]
  },
  {
   "cell_type": "markdown",
   "metadata": {},
   "source": [
    "# 2\n",
    "# $u(t) = \\sin^4(t)+\\cos^4(t)$\n",
    "# $y = -0.0625\\cdot(\\sin(4(x-t))+12(x-t)), t>x$"
   ]
  },
  {
   "cell_type": "code",
   "execution_count": null,
   "metadata": {},
   "outputs": [],
   "source": [
    "def control2(t):\n",
    "    return (np.cos(t)**4)+(np.sin(t)**4)"
   ]
  },
  {
   "cell_type": "code",
   "execution_count": null,
   "metadata": {},
   "outputs": [],
   "source": [
    "def y2(t, x):\n",
    "    if t - x >0:\n",
    "        return (-1/16)*(np.sin(4*(x-t)) + 12*(x-t))\n",
    "    return 0"
   ]
  },
  {
   "cell_type": "code",
   "execution_count": null,
   "metadata": {},
   "outputs": [],
   "source": [
    "grid = make_grid()\n",
    "# PLOT = approximate_solution_cross_straight(grid, control2, 0)\n",
    "# plot_3D(PLOT)"
   ]
  },
  {
   "cell_type": "code",
   "execution_count": null,
   "metadata": {
    "scrolled": false
   },
   "outputs": [],
   "source": [
    "# goal = accurate_solution(y2)\n",
    "# plot_3D(goal)"
   ]
  },
  {
   "cell_type": "markdown",
   "metadata": {},
   "source": [
    "# 3\n",
    "# $u(t) = \\cos(t+T)$\n",
    "# $y = -\\sin(x-t-T)-\\sin(T), t>x$"
   ]
  },
  {
   "cell_type": "code",
   "execution_count": null,
   "metadata": {},
   "outputs": [],
   "source": [
    "def control3(t):\n",
    "    return np.sin(t)"
   ]
  },
  {
   "cell_type": "code",
   "execution_count": null,
   "metadata": {},
   "outputs": [],
   "source": [
    "def y3(t, x):\n",
    "    if t - x > 0:\n",
    "        return 1 - np.cos(x-t)\n",
    "    return 0"
   ]
  },
  {
   "cell_type": "code",
   "execution_count": null,
   "metadata": {
    "scrolled": false
   },
   "outputs": [],
   "source": [
    "grid = make_grid()\n",
    "# PLOT = approximate_solution_cross_straight(grid, control3, 0)\n",
    "# plot_3D(PLOT)"
   ]
  },
  {
   "cell_type": "code",
   "execution_count": null,
   "metadata": {
    "scrolled": false
   },
   "outputs": [],
   "source": [
    "# goal = accurate_solution(y3)\n",
    "# plot_3D(goal)"
   ]
  },
  {
   "cell_type": "code",
   "execution_count": null,
   "metadata": {},
   "outputs": [],
   "source": [
    "def plot_3D_conj(U):\n",
    "    fig = plt.figure(figsize = (10, 10))\n",
    "    ax = fig.add_subplot(1, 1, 1, projection = '3d')\n",
    "    xval = np.linspace(0, T, num=T_iter)\n",
    "    ax.set_xlabel('t', fontsize = 20)\n",
    "    yval = np.linspace(0, L, num=L_iter)\n",
    "    ax.set_ylabel('x', fontsize = 20)\n",
    "    ax.set_zlabel('psi(t, x)', fontsize = 20)\n",
    "    x, y = np.meshgrid(yval,xval)\n",
    "    z = U\n",
    "    surf = ax.plot_surface(y, x, z, rstride = 1, cstride = 1, cmap = cm.plasma) "
   ]
  },
  {
   "cell_type": "markdown",
   "metadata": {},
   "source": [
    "# Сопреяженная задача 1\n",
    "# $\\frac{\\psi_{T,x} - \\psi_{T-1, x}}{dt}=-v(x)$\n",
    "# Возьмем $v(x) = -cos(x)$"
   ]
  },
  {
   "cell_type": "code",
   "execution_count": 274,
   "metadata": {},
   "outputs": [],
   "source": [
    "def approximate_solution_cross_conjugate_1(PSI, control):\n",
    "\n",
    "    \n",
    "    for t in range(T_iter-2, 0, -1):\n",
    "        for x in range(1, L_iter-1):\n",
    "\n",
    "            PSI[t-1, x] = 2*PSI[t, x] - PSI[t+1, x] + gamma*(PSI[t, x-1] - 2*PSI[t,x] + PSI[t, x+1])\n",
    "            PSI[T_iter-1, x+1] = -dt*control[x+1] + PSI[T_iter-2, x+1]\n",
    "        \n",
    "        PSI[t-1, 0] = PSI[t-1, 1] \n",
    "        PSI[t-1, L_iter-1] = PSI[t-1, L_iter-2]\n",
    "        \n",
    "    return PSI"
   ]
  },
  {
   "cell_type": "code",
   "execution_count": 360,
   "metadata": {},
   "outputs": [],
   "source": [
    "v = [1. for x in range(0, L_iter)]"
   ]
  },
  {
   "cell_type": "code",
   "execution_count": 361,
   "metadata": {},
   "outputs": [],
   "source": [
    "grid = make_grid()\n",
    "PSI1 = approximate_solution_cross_conjugate_1(grid, v)\n",
    "# plot_3D_conj(PSI1)"
   ]
  },
  {
   "cell_type": "code",
   "execution_count": 362,
   "metadata": {},
   "outputs": [
    {
     "data": {
      "text/plain": [
       "array([0.79937937, 0.71072565, 0.61978223, 0.5292795 , 0.44147386,\n",
       "       0.34874092, 0.25956045, 0.173502  , 0.0729    , 0.        ,\n",
       "       0.        , 0.        ])"
      ]
     },
     "execution_count": 362,
     "metadata": {},
     "output_type": "execute_result"
    }
   ],
   "source": [
    "PSI1[:,0]"
   ]
  },
  {
   "cell_type": "code",
   "execution_count": 363,
   "metadata": {},
   "outputs": [],
   "source": [
    "def v_acc1(t, x):\n",
    "    def res(t,x):\n",
    "        return (-1/2)*(np.sin(x+t-1)-np.sin(x-t+1))\n",
    "    if abs(x) < t and t < 2-abs(x):\n",
    "        return res(t,x) \n",
    "    else:\n",
    "        return res(t,x)"
   ]
  },
  {
   "cell_type": "code",
   "execution_count": 365,
   "metadata": {},
   "outputs": [
    {
     "data": {
      "text/plain": [
       "array([0.84147098, 0.78950374, 0.73114583, 0.66686964, 0.59719544,\n",
       "       0.52268723, 0.44394811, 0.36161543, 0.27635565, 0.18885889,\n",
       "       0.09983342, 0.00999983])"
      ]
     },
     "execution_count": 365,
     "metadata": {},
     "output_type": "execute_result"
    }
   ],
   "source": [
    "goal = accurate_solution(v_acc1)\n",
    "goal[:,0]"
   ]
  },
  {
   "cell_type": "code",
   "execution_count": null,
   "metadata": {},
   "outputs": [],
   "source": [
    "# goal[:, 0]"
   ]
  },
  {
   "cell_type": "markdown",
   "metadata": {},
   "source": [
    "# Сопреяженная задача 2\n",
    "# $\\psi_{T,x}=w(x)$"
   ]
  },
  {
   "cell_type": "code",
   "execution_count": null,
   "metadata": {},
   "outputs": [],
   "source": [
    "def approximate_solution_cross_conjugate_2(PSI, control):\n",
    "\n",
    "    for t in range(T_iter-2, 0, -1):\n",
    "        for x in range(1, L_iter-1):\n",
    "\n",
    "            PSI[t-1, x] = 2*PSI[t, x] - PSI[t+1, x] + gamma*(PSI[t, x-1] - 2*PSI[t,x] + PSI[t, x+1])\n",
    "            PSI[T_iter-1, x+1] = dt*control[x+1]\n",
    "            \n",
    "        PSI[t-1, 0] = PSI[t-1, 1]\n",
    "        PSI[t-1, L_iter-1] = PSI[t-1, L_iter-2]\n",
    "        \n",
    "    return PSI"
   ]
  },
  {
   "cell_type": "code",
   "execution_count": null,
   "metadata": {},
   "outputs": [],
   "source": [
    "# v = [np.cos(i) for i in np.linspace(0, 1, L_iter)]\n",
    "\n",
    "# grid = make_grid()\n",
    "# PSI2 = approximate_solution_cross_conjugate_2(grid, v)\n",
    "\n",
    "# plot_3D_conj(PSI2)"
   ]
  },
  {
   "cell_type": "code",
   "execution_count": null,
   "metadata": {},
   "outputs": [],
   "source": [
    "# GOAL_acc[T_iter-1, :]"
   ]
  },
  {
   "cell_type": "code",
   "execution_count": null,
   "metadata": {},
   "outputs": [],
   "source": [
    "def v_acc2(t, x, C=3):\n",
    "    def res(t, x):\n",
    "#         return (1/(2*C*np.pi))*(np.sin(np.pi*C*x+np.pi*C*t-np.pi*C)-\\\n",
    "#                                 np.sin(np.pi*C*x-np.pi*C*t+np.pi*C))\n",
    "        return (1/2)*np.sin(x-t)\n",
    "    \n",
    "    if t >= -x+1 and t >= x:\n",
    "        return res(t, x)\n",
    "    \n",
    "    elif t <= -x+1 and t <= x:\n",
    "        return res(t, x)\n",
    "    \n",
    "    elif t <= -x+1 and t >= x:\n",
    "        return res(t, x)\n",
    "    \n",
    "    else:\n",
    "        return res(t, x)"
   ]
  },
  {
   "cell_type": "code",
   "execution_count": null,
   "metadata": {},
   "outputs": [],
   "source": [
    "# goal = accurate_solution(v_acc2)\n",
    "# plot_3D_conj(goal)"
   ]
  },
  {
   "cell_type": "markdown",
   "metadata": {},
   "source": [
    "# Сопреяженная задача 3\n",
    "# $\\frac{\\psi_{t,L} - \\psi_{t, L-1}}{dx} = v(t)$"
   ]
  },
  {
   "cell_type": "code",
   "execution_count": null,
   "metadata": {},
   "outputs": [],
   "source": [
    "def approximate_solution_cross_conjugate_3(PSI, control):\n",
    "    \n",
    "    for t in range(1, T_iter-1):\n",
    "        for x in range(1, L_iter-1):\n",
    "            PSI[t+1, x] = 2*PSI[t, x] - PSI[t-1, x] + gamma*(PSI[t, x-1] - 2*PSI[t, x] + PSI[t, x+1])\n",
    "                \n",
    "        PSI[t+1, L_iter-1] = dl*control[t+1] + PSI[t+1, L_iter-2]\n",
    "        \n",
    "    return PSI"
   ]
  },
  {
   "cell_type": "code",
   "execution_count": null,
   "metadata": {},
   "outputs": [],
   "source": [
    "# grid = make_grid()\n",
    "# v = [np.cos(i) for i in np.linspace(0, 1, T_iter)]\n",
    "# PSI3 = approximate_solution_cross_conjugate_3(grid, v)\n",
    "# plot_3D_conj(PSI3)"
   ]
  },
  {
   "cell_type": "code",
   "execution_count": null,
   "metadata": {},
   "outputs": [],
   "source": [
    "def v_acc3(t, x, C=1):\n",
    "    \n",
    "    def res(t, x, C):\n",
    "#         return (1/(np.pi*C))*(np.sin(np.pi*C*x - np.pi*C*t)+np.sin(np.pi*C))\n",
    "        return -np.sin(1+x-t)\n",
    "\n",
    "    if t >= 1 - x:\n",
    "        return res(t, -x, C)\n",
    "    else:\n",
    "        return 0\n",
    "    \n",
    "# goal = accurate_solution(v_acc3)\n",
    "# plot_3D_conj(goal)"
   ]
  },
  {
   "cell_type": "code",
   "execution_count": 375,
   "metadata": {},
   "outputs": [],
   "source": [
    "def SR1(u):\n",
    "    \n",
    "    ITERATIONS = 0\n",
    "\n",
    "    def get_grad(u_current):\n",
    "        lambda1=1\n",
    "#         lambda3=1\n",
    "                \n",
    "        Y = approximate_solution_cross_straight(make_grid(), u_current)\n",
    "        \n",
    "        y1 = Y[T_iter-1, :]   # Значение при заданном управлении = y1(1,x,u)\n",
    "        f_1 = f1_app          # Цель = f1(1,x,u)\n",
    "        v1 = y1 - f_1         # v1 для 1й краевой задачи\n",
    "#         print(np.array(y1), np.array(f_1),sep='\\n')\n",
    "        J1_d = 2*approximate_solution_cross_conjugate_1(make_grid(), v1)[:, 0]\n",
    "        \n",
    "#         y3 = Y[:, L_iter-1]          # Значение при заданном управлении = y3(t, L)\n",
    "#         g = GOAL_acc[:, L_iter-1]    # Цель = g(t, L)\n",
    "#         v3 = y3 - g                  # v3 для 3й краевой задачи\n",
    "#         J3_d = 2*approximate_solution_cross_conjugate_3(make_grid(), v3)[:, 0]\n",
    "\n",
    "        return lambda1*J1_d\n",
    "    #   _________________________________________________________________________  \n",
    "    \n",
    "    H = np.eye(len(u))\n",
    "    \n",
    "    eps = 10**(-3)\n",
    "    alpha = 1\n",
    "    \n",
    "    grad = get_grad(u)\n",
    "    return grad\n",
    "\n",
    "    while True and ITERATIONS < 10:\n",
    "        \n",
    "        norm_grad = np.linalg.norm(grad)\n",
    "        \n",
    "        if norm_grad < eps:\n",
    "            break        \n",
    "\n",
    "        u_next = u - alpha*H@get_grad(u)\n",
    "        sk = u_next - u\n",
    "        u  = u_next\n",
    "\n",
    "#         clear_output(wait=True)\n",
    "        print('Method SR1 is on {} iteration, gradient\\'s norm = {}'.format(ITERATIONS, norm_grad))\n",
    "        print('Desired value of gradient`s norm -> {}'.format(eps))\n",
    "        print('___________________________________________________')\n",
    "                \n",
    "        grad_next = get_grad(u_next)\n",
    "        yk = grad_next - grad\n",
    "        grad = grad_next\n",
    "        \n",
    "        tmp = sk-(H@yk)\n",
    "        \n",
    "        H_next = H + (tmp@tmp.T)/(np.dot(tmp, yk))\n",
    "        H = H_next\n",
    "        \n",
    "        ITERATIONS += 1\n",
    "        \n",
    "    print('Final grad = {}'.format(grad))\n",
    "    print('___________________________________________________')\n",
    "    \n",
    "    return np.round(np.array(u),2)"
   ]
  },
  {
   "cell_type": "code",
   "execution_count": 377,
   "metadata": {
    "scrolled": false
   },
   "outputs": [
    {
     "data": {
      "text/plain": [
       "array([0.53535361, 0.53482731, 0.51848849, 0.4853715 , 0.44062946,\n",
       "       0.37428902, 0.29780036, 0.21199353, 0.09301873, 0.        ,\n",
       "       0.        , 0.        ])"
      ]
     },
     "execution_count": 377,
     "metadata": {},
     "output_type": "execute_result"
    }
   ],
   "source": [
    "# %%time\n",
    "u_rand = np.random.rand(T_iter)\n",
    "u_opt = np.array([np.cos(dt*i) for i in range(0, T_iter)])\n",
    "u = u_opt*0\n",
    "\n",
    "SR1(u)"
   ]
  },
  {
   "cell_type": "code",
   "execution_count": 378,
   "metadata": {},
   "outputs": [
    {
     "data": {
      "text/plain": [
       "array([-0.45969769, -0.45565043, -0.44354139, -0.42346859, -0.39559452,\n",
       "       -0.3601448 , -0.31740638, -0.2677252 , -0.21150342, -0.14919613,\n",
       "       -0.08130766, -0.00838755])"
      ]
     },
     "execution_count": 378,
     "metadata": {},
     "output_type": "execute_result"
    }
   ],
   "source": [
    "np.array([np.cos(1) - np.cos(t*dt) for t in range(0, T_iter)])"
   ]
  },
  {
   "cell_type": "code",
   "execution_count": null,
   "metadata": {},
   "outputs": [],
   "source": [
    "for i in range(0,T_iter):\n",
    "    print(np.cos(dl*i))"
   ]
  },
  {
   "cell_type": "code",
   "execution_count": null,
   "metadata": {},
   "outputs": [],
   "source": []
  }
 ],
 "metadata": {
  "kernelspec": {
   "display_name": "Python 3",
   "language": "python",
   "name": "python3"
  },
  "language_info": {
   "codemirror_mode": {
    "name": "ipython",
    "version": 3
   },
   "file_extension": ".py",
   "mimetype": "text/x-python",
   "name": "python",
   "nbconvert_exporter": "python",
   "pygments_lexer": "ipython3",
   "version": "3.8.5"
  }
 },
 "nbformat": 4,
 "nbformat_minor": 4
}
