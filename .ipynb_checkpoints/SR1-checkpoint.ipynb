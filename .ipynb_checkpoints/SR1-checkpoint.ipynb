{
 "cells": [
  {
   "cell_type": "code",
   "execution_count": 1,
   "metadata": {},
   "outputs": [],
   "source": [
    "import numpy as np\n",
    "from IPython.display import clear_output"
   ]
  },
  {
   "cell_type": "code",
   "execution_count": 2,
   "metadata": {},
   "outputs": [],
   "source": [
    "def test_1(x):\n",
    "    res = 0\n",
    "    for i in range(len(x)):\n",
    "        res += x[i]**2\n",
    "    return res"
   ]
  },
  {
   "cell_type": "code",
   "execution_count": 3,
   "metadata": {},
   "outputs": [],
   "source": [
    "def test_2(x):\n",
    "    res = 0\n",
    "    for i in range(len(x)):\n",
    "        res += (x[i]**2)*(1+(i*np.sin(200*i)))\n",
    "    return res"
   ]
  },
  {
   "cell_type": "code",
   "execution_count": 4,
   "metadata": {},
   "outputs": [],
   "source": [
    "def get_grad(func, x):\n",
    "    eps = 10**(-6)\n",
    "    f_grad = np.zeros(x.shape)\n",
    "    \n",
    "    for i in range(x.shape[0]):\n",
    "        for j in range(x.shape[1]):\n",
    "            x[i, j] += eps\n",
    "            f_l = func(x)\n",
    "            x[i, j] -= 2*eps\n",
    "            f_r = func(x)\n",
    "            x[i, j] += eps\n",
    "            \n",
    "            f_grad[i, j] = (f_l - f_r) / 2 / eps\n",
    "            \n",
    "    return f_grad"
   ]
  },
  {
   "cell_type": "code",
   "execution_count": 5,
   "metadata": {},
   "outputs": [],
   "source": [
    "def get_scalar(x,y):\n",
    "    res = 0\n",
    "    for i in range(x.shape[0]):\n",
    "        res += x[i][0]*y[i][0]\n",
    "    return res"
   ]
  },
  {
   "cell_type": "code",
   "execution_count": 6,
   "metadata": {},
   "outputs": [],
   "source": [
    "def SR1(func, x):\n",
    "    H = np.eye(x.shape[0])/2\n",
    "    \n",
    "    eps = 10**(-9)\n",
    "    alpha = 1\n",
    "    \n",
    "    grad = get_grad(func, x)\n",
    "    \n",
    "    ITERATIONS = 0\n",
    "\n",
    "    while True:\n",
    "        \n",
    "        norm_grad = np.linalg.norm(grad)\n",
    "        \n",
    "        if norm_grad < eps:\n",
    "            break\n",
    "        \n",
    "        clear_output(wait=True)\n",
    "        print('Method SR1 is on {} iteration, gradient`s norm = {}'.format(ITERATIONS, norm_grad))\n",
    "        print('Desired value of gradient`s norm -> {}'.format(eps))\n",
    "        print('___________________________________________________')\n",
    "\n",
    "\n",
    "        \n",
    "        \n",
    "        x_next = x - alpha*H@get_grad(func, x)\n",
    "        sk = x_next - x\n",
    "        x = x_next\n",
    "        \n",
    "        \n",
    "        g_next = get_grad(func, x_next)\n",
    "        yk = g_next - grad\n",
    "        grad = g_next\n",
    "        \n",
    "        tmp = sk-(H@yk)\n",
    "                \n",
    "        \n",
    "        H_next = H + (tmp@tmp.T)/ get_scalar(tmp, yk)\n",
    "        H = H_next\n",
    "        \n",
    "        \n",
    "        ITERATIONS += 1\n",
    "        \n",
    "    print('Final norm = {}'.format(norm_grad))\n",
    "    print('___________________________________________________')\n",
    "    \n",
    "    return x"
   ]
  },
  {
   "cell_type": "code",
   "execution_count": 8,
   "metadata": {},
   "outputs": [
    {
     "name": "stdout",
     "output_type": "stream",
     "text": [
      "Method SR1 is on 10 iteration, gradient`s norm = 1.4672942951739786e-07\n",
      "Desired value of gradient`s norm -> 1e-09\n",
      "___________________________________________________\n",
      "Final norm = 6.65867626350489e-17\n",
      "___________________________________________________\n",
      "CPU times: user 112 ms, sys: 19.8 ms, total: 132 ms\n",
      "Wall time: 100 ms\n"
     ]
    }
   ],
   "source": [
    "%%time\n",
    "x = np.random.rand(10,1)\n",
    "res = SR1(test_2, x)"
   ]
  },
  {
   "cell_type": "code",
   "execution_count": 9,
   "metadata": {},
   "outputs": [],
   "source": [
    "def goal1_1(x):\n",
    "    return 1-x"
   ]
  },
  {
   "cell_type": "code",
   "execution_count": 10,
   "metadata": {},
   "outputs": [],
   "source": [
    "def goal2_1(x):\n",
    "    return 1"
   ]
  },
  {
   "cell_type": "code",
   "execution_count": 11,
   "metadata": {},
   "outputs": [],
   "source": [
    "def convolution(J1=0, J2=0, J3=0, J4=0):\n",
    "    return 1*J1 + 1*J2 + 1*J3 + 1*J4"
   ]
  },
  {
   "cell_type": "code",
   "execution_count": null,
   "metadata": {},
   "outputs": [],
   "source": []
  }
 ],
 "metadata": {
  "kernelspec": {
   "display_name": "Python 3",
   "language": "python",
   "name": "python3"
  },
  "language_info": {
   "codemirror_mode": {
    "name": "ipython",
    "version": 3
   },
   "file_extension": ".py",
   "mimetype": "text/x-python",
   "name": "python",
   "nbconvert_exporter": "python",
   "pygments_lexer": "ipython3",
   "version": "3.8.5"
  }
 },
 "nbformat": 4,
 "nbformat_minor": 4
}
